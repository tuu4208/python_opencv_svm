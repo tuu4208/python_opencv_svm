{
 "cells": [
  {
   "cell_type": "markdown",
   "metadata": {},
   "source": [
    "# Support Vector Machine 基本認識與使用"
   ]
  },
  {
   "cell_type": "markdown",
   "metadata": {},
   "source": [
    "#### **1. 線性可分割資料**<br>\n",
    "可用一條線或一個平面(決定邊界 Decision Boundary)將兩堆資料正確的分開，稱為線性可分割。若以x代表資料屬性、f(x)表示該決定邊界，那f(x) > 0屬於藍色組，反之則屬於紅色組。<br>\n",
    "![linear_separable_data_boundary](https://2.bp.blogspot.com/-3gi6NeX6a58/WDzfqELwS5I/AAAAAAAAGZk/QyL0Gs26-_EyQ73Nmm2S2kc3sOuC9AnwQCLcB/s1600/svm3.png)<br>\n",
    "<font size=\"1\" color = \"gray\">圖片來源：https://towardsdatascience.com/support-vector-machine-vs-logistic-regression-94cc2975433f</font><br>\n",
    "上圖可看出有無限多條決定邊界都可以分割出兩堆資料，但能將兩堆資料分的越開，理論上應該最好、抗雜訊能力最強。因此SVM定義了支持向量(support vector)，這些支持向量所決定的超平面能使兩堆資料的邊界(Margin)最大；另外在分割大型資料集時，只須考慮支持向量上的各點，不用考慮所有資料，可大幅降低計算量。<br>\n",
    "![svm_concept](https://2.bp.blogspot.com/-RImaagDyBEA/WDzfqJGXPTI/AAAAAAAAGZc/5UCwW0YcGtoVVsm5FRU3Z4issq4qTOQ2wCEw/s1600/svm4.png)<br>\n",
    "<font size=\"1\" color = \"gray\">圖片來源：https://towardsdatascience.com/support-vector-machine-vs-logistic-regression-94cc2975433f</font><br>"
   ]
  },
  {
   "cell_type": "markdown",
   "metadata": {},
   "source": [
    "#### 導入將使用到的模組\n",
    "- numpy: 常用數學計算、矩陣資料型態\n",
    "- cv2: OpenCV模組\n",
    "- pandas: 此處用來讀取csv檔案的模組"
   ]
  },
  {
   "cell_type": "code",
   "execution_count": 14,
   "metadata": {},
   "outputs": [],
   "source": [
    "import numpy as np\n",
    "import cv2 as cv\n",
    "import pandas as pd\n",
    "import random"
   ]
  },
  {
   "cell_type": "markdown",
   "metadata": {},
   "source": [
    "---\n",
    "#### 載入線性可分割資料集並印出查看\n",
    "- 屬性 \n",
    "    - X: 直角坐標X軸座標(0~1)\n",
    "    - Y: 直角坐標Y軸座標(0~1)\n",
    "- 類別: \n",
    "    - 0: 表示藍色圓形\n",
    "    - 1: 表示紅色矩形\n",
    "- 統計:\n",
    "    - 10 筆資料\n",
    "    - 紅色與藍色各5筆"
   ]
  },
  {
   "cell_type": "code",
   "execution_count": 26,
   "metadata": {},
   "outputs": [
    {
     "name": "stdout",
     "output_type": "stream",
     "text": [
      "     x    y  label\n",
      "0  0.4  0.3      0\n",
      "1  0.4  0.2      0\n",
      "2  0.5  0.1      0\n",
      "3  0.6  0.2      0\n",
      "4  0.8  0.5      0\n",
      "5  0.1  0.7      1\n",
      "6  0.2  0.5      1\n",
      "7  0.2  0.8      1\n",
      "8  0.3  0.9      1\n",
      "9  0.4  0.7      1\n"
     ]
    }
   ],
   "source": [
    "data = pd.read_csv('data/simple_linear.csv')\n",
    "print(data)"
   ]
  },
  {
   "cell_type": "markdown",
   "metadata": {},
   "source": [
    "---\n",
    "#### 資料前處理\n",
    "- 將資料集屬性與類別分開方便訓練"
   ]
  },
  {
   "cell_type": "code",
   "execution_count": 27,
   "metadata": {
    "slideshow": {
     "slide_type": "slide"
    }
   },
   "outputs": [
    {
     "name": "stdout",
     "output_type": "stream",
     "text": [
      "train data:\n",
      " [[0.4 0.3]\n",
      " [0.4 0.2]\n",
      " [0.5 0.1]\n",
      " [0.6 0.2]\n",
      " [0.8 0.5]\n",
      " [0.1 0.7]\n",
      " [0.2 0.5]\n",
      " [0.2 0.8]\n",
      " [0.3 0.9]\n",
      " [0.4 0.7]]\n",
      "label:\n",
      " [[0]\n",
      " [0]\n",
      " [0]\n",
      " [0]\n",
      " [0]\n",
      " [1]\n",
      " [1]\n",
      " [1]\n",
      " [1]\n",
      " [1]]\n"
     ]
    }
   ],
   "source": [
    "trainData = data[['x', 'y']].values\n",
    "label = data[['label']].values\n",
    "print('train data:\\n', trainData)\n",
    "print('label:\\n', label)"
   ]
  },
  {
   "cell_type": "markdown",
   "metadata": {},
   "source": [
    "- 將資料集格式轉成OpenCV的SVM訓練格式 "
   ]
  },
  {
   "cell_type": "code",
   "execution_count": 28,
   "metadata": {},
   "outputs": [],
   "source": [
    "trainData = trainData.astype(np.float32)\n",
    "trainData = np.asmatrix(trainData)"
   ]
  },
  {
   "cell_type": "markdown",
   "metadata": {},
   "source": [
    "- 將資料以二維座標圖呈現的畫圖函數（可跳過）"
   ]
  },
  {
   "cell_type": "code",
   "execution_count": 70,
   "metadata": {},
   "outputs": [],
   "source": [
    "def draw_data_dist(data, label, model = None, sv = np.array([])):\n",
    "    amp = 300; size = 10\n",
    "    Blue = (255, 0, 0)\n",
    "    Red = (0, 0, 255)\n",
    "    image = np.ones((amp, amp, 3), dtype = np.uint8)*255\n",
    "    data = data * amp\n",
    "    \n",
    "    for i in range(data.shape[0]):\n",
    "        if label.item(i) == 0:\n",
    "            replace = (int(data.item((i,0))), int(data.item((i,1))))\n",
    "            cv.circle(image, replace, size, Blue, 2)\n",
    "        else:\n",
    "            rep_tl = tuple((data - size).astype(np.int32).A[i])\n",
    "            rep_br = tuple((data + size).astype(np.int32).A[i])\n",
    "            cv.rectangle(image, rep_tl, rep_br, Red, 2)\n",
    "    if model != None:\n",
    "        temp = np.ones((amp, amp, 3), dtype = np.uint8)*255\n",
    "        for i in range(amp):\n",
    "            for j in range(amp):\n",
    "                sample = np.matrix([[j, i]], dtype = np.float32) / amp\n",
    "                response = int(model.predict(sample)[1][0,0])\n",
    "                if response == 0: temp[i,j] = Blue \n",
    "                else: temp[i,j] = Red\n",
    "        temp = cv.Canny(temp, 100, 200)\n",
    "        temp = cv.cvtColor(temp, cv.COLOR_GRAY2BGR)\n",
    "        image = cv.bitwise_and(image, cv.bitwise_not(temp))\n",
    "    if sv.any():\n",
    "        sv = sv * amp\n",
    "        for i in range(sv.shape[0]):\n",
    "            cv.circle(image, (sv[i, 0], sv[i, 1]), 6, (0, 0, 0), -1)\n",
    "    return image      "
   ]
  },
  {
   "cell_type": "markdown",
   "metadata": {},
   "source": [
    "- 將資料以二維座標圖呈現<br>\n",
    "![simple_linear](./assets/simple_linear.PNG)"
   ]
  },
  {
   "cell_type": "code",
   "execution_count": 37,
   "metadata": {},
   "outputs": [],
   "source": [
    "result = draw_data_dist(trainData, label)\n",
    "cv.imshow('SVM Simple Example', result)\n",
    "cv.waitKey()\n",
    "cv.destroyAllWindows()"
   ]
  },
  {
   "cell_type": "markdown",
   "metadata": {},
   "source": [
    "#### SVM模型建置\n",
    "此處先以最簡單的線性分割模型建置"
   ]
  },
  {
   "cell_type": "code",
   "execution_count": 31,
   "metadata": {},
   "outputs": [],
   "source": [
    "model = cv.ml.SVM_create()\n",
    "model.setType(cv.ml.SVM_C_SVC)\n",
    "model.setKernel(cv.ml.SVM_LINEAR)\n",
    "model.setTermCriteria((cv.TERM_CRITERIA_MAX_ITER, 10000, 1e-6))\n",
    "model.setC(100)"
   ]
  },
  {
   "cell_type": "markdown",
   "metadata": {},
   "source": [
    "#### 訓練SVM模型\n",
    "輸出為True表示訓練滿足設定目標；反之False則為失敗。"
   ]
  },
  {
   "cell_type": "code",
   "execution_count": 32,
   "metadata": {},
   "outputs": [
    {
     "data": {
      "text/plain": [
       "True"
      ]
     },
     "execution_count": 32,
     "metadata": {},
     "output_type": "execute_result"
    }
   ],
   "source": [
    "model.train(trainData, cv.ml.ROW_SAMPLE, label)"
   ]
  },
  {
   "cell_type": "markdown",
   "metadata": {},
   "source": [
    "#### 模型訓練結果\n",
    "比對目標與實際結果並統計正確率"
   ]
  },
  {
   "cell_type": "code",
   "execution_count": 33,
   "metadata": {},
   "outputs": [
    {
     "name": "stdout",
     "output_type": "stream",
     "text": [
      "label \t pred\n",
      "[0] \t [[0.]]\n",
      "[0] \t [[0.]]\n",
      "[0] \t [[0.]]\n",
      "[0] \t [[0.]]\n",
      "[0] \t [[0.]]\n",
      "[1] \t [[1.]]\n",
      "[1] \t [[1.]]\n",
      "[1] \t [[1.]]\n",
      "[1] \t [[1.]]\n",
      "[1] \t [[1.]]\n",
      "==================\n",
      "accuracy:  1.0\n"
     ]
    }
   ],
   "source": [
    "def get_acc(model, data, label):\n",
    "    acc = 0\n",
    "    print('label \\t pred')\n",
    "    for i in range(data.shape[0]):\n",
    "        response = model.predict(data[i])[1]\n",
    "        print(label[i], '\\t', response)\n",
    "        if model.predict(data[i])[1] == label[i]:\n",
    "            acc = acc + 1\n",
    "    print('==================')        \n",
    "    print('accuracy: ', acc / data.shape[0])\n",
    "\n",
    "get_acc(model, trainData, label)"
   ]
  },
  {
   "cell_type": "markdown",
   "metadata": {},
   "source": [
    "#### 模型測試\n",
    "- 將資料以二維座標圖呈現決定邊界<br>\n",
    "![simple_linear_decision_boundary](./assets/simple_linear_decision_boundary.PNG)"
   ]
  },
  {
   "cell_type": "code",
   "execution_count": 38,
   "metadata": {},
   "outputs": [],
   "source": [
    "result = draw_data_dist(trainData, label, model)\n",
    "cv.imshow('SVM Simple Example', result)\n",
    "cv.waitKey()\n",
    "cv.destroyAllWindows()"
   ]
  },
  {
   "cell_type": "markdown",
   "metadata": {},
   "source": [
    "- 標註出Support Vector<br>\n",
    "![simple_linear_support_vector](./assets/simple_linear_support_vector.PNG)"
   ]
  },
  {
   "cell_type": "code",
   "execution_count": 39,
   "metadata": {},
   "outputs": [
    {
     "name": "stdout",
     "output_type": "stream",
     "text": [
      "[[0.4 0.3]\n",
      " [0.2 0.5]]\n"
     ]
    }
   ],
   "source": [
    "sv = model.getUncompressedSupportVectors()\n",
    "print(sv)"
   ]
  },
  {
   "cell_type": "code",
   "execution_count": 40,
   "metadata": {},
   "outputs": [],
   "source": [
    "result = draw_data_dist(trainData, label, model, sv)\n",
    "cv.imshow('SVM Simple Example', result)\n",
    "cv.waitKey()\n",
    "cv.destroyAllWindows()"
   ]
  },
  {
   "cell_type": "markdown",
   "metadata": {},
   "source": [
    "#### 模型存取"
   ]
  },
  {
   "cell_type": "code",
   "execution_count": 41,
   "metadata": {},
   "outputs": [],
   "source": [
    "model.save('./model/svm_simple_linear.xml')\n",
    "model = cv.ml.SVM_load('./model/svm_simple_linear.xml')"
   ]
  },
  {
   "cell_type": "markdown",
   "metadata": {},
   "source": [
    "#### **2. 非線性可分割資料**<br>\n",
    "大部分資料分佈狀況通常不會是線性可分割資料，而SVM卻只能做線性分割怎麼辦？不能像下圖一樣用曲線將資料分開嗎？<br>\n",
    "![unlinear_separable_data](http://quantdare.com/wp-content/uploads/2016/09/sepplane2.png)\n",
    "![unlinear_separable_data_boundary](http://quantdare.com/wp-content/uploads/2016/09/sepplan3.png)<br>\n",
    "<font size=\"1\" color = \"gray\">圖片來源：https://quantdare.com/svm-versus-a-monkey/</font><br>"
   ]
  },
  {
   "cell_type": "markdown",
   "metadata": {},
   "source": [
    "- **特徵空間轉換**<br>\n",
    "SVM透過特徵空間轉換，利用函數將原本的資料屬性導向到另一種屬性表示方式，這種函數稱為**核函數(kernel function)**，轉換後的資料分佈即可做線性分割，而此決定邊界投射在原始屬性空間即為曲線。\n",
    "換句話說有紅球跟藍球在桌子上，發現兩種球的質量不同，大力一拍桌子，讓這些球飛到空中，你再拿一張白紙將兩種球分開。<br>\n",
    "<img src = \"https://miro.medium.com/max/872/1*zWzeMGyCc7KvGD9X8lwlnQ.png\" width = \"400\" height = \"100\"/>\n",
    "<img src = \"https://thumbs.gfycat.com/CluelessDefinitiveBlackandtancoonhound-size_restricted.gif\" width = \"400\" height = \"300\"/><br>\n",
    "<font size=\"1\" color = \"gray\">圖片來源：https://medium.com/jameslearningnote/%E8%B3%87%E6%96%99%E5%88%86%E6%9E%90-%E6%A9%9F%E5%99%A8%E5%AD%B8%E7%BF%92-%E7%AC%AC3-4%E8%AC%9B-%E6%94%AF%E6%8F%B4%E5%90%91%E9%87%8F%E6%A9%9F-support-vector-machine-%E4%BB%8B%E7%B4%B9-9c6c6925856b</font><br>"
   ]
  },
  {
   "cell_type": "markdown",
   "metadata": {
    "slideshow": {
     "slide_type": "slide"
    }
   },
   "source": [
    "#### 載入非線性可分割資料集並視覺化\n",
    "- 屬性 \n",
    "    - X: 直角坐標X軸座標(0~1)\n",
    "    - Y: 直角坐標Y軸座標(0~1)\n",
    "- 類別: \n",
    "    - 0: 表示藍色圓形\n",
    "    - 1: 表示紅色矩形\n",
    "- 統計:\n",
    "    - 30 筆資料\n",
    "    - 紅色20筆、藍色10筆"
   ]
  },
  {
   "cell_type": "code",
   "execution_count": 63,
   "metadata": {},
   "outputs": [],
   "source": [
    "data = pd.read_csv('data/simple_unlinear.csv')\n",
    "trainData = data[['x', 'y']].values\n",
    "label = data[['label']].values\n",
    "trainData = trainData.astype(np.float32)\n",
    "trainData = np.asmatrix(trainData)"
   ]
  },
  {
   "cell_type": "markdown",
   "metadata": {},
   "source": [
    "![simple_unlinear](./assets/simple_unlinear.PNG)"
   ]
  },
  {
   "cell_type": "code",
   "execution_count": 107,
   "metadata": {},
   "outputs": [],
   "source": [
    "result = draw_data_dist(trainData, label)\n",
    "cv.imshow('SVM Simple Example', result)\n",
    "cv.waitKey()\n",
    "cv.destroyAllWindows()"
   ]
  },
  {
   "cell_type": "markdown",
   "metadata": {},
   "source": [
    "#### SVM 模型建置\n",
    "- setType:設定決定邊界評量標準<br>\n",
    "    <img src = \"./assets/setType.PNG\" style=\"width:50%;\">"
   ]
  },
  {
   "cell_type": "markdown",
   "metadata": {},
   "source": [
    "- setKernel: 設定核函數計算方式，將原始特徵轉換到另一個表示空間。<br>\n",
    "    <img src = \"./assets/setKernel.PNG\" style=\"width:60%;\">"
   ]
  },
  {
   "cell_type": "markdown",
   "metadata": {},
   "source": [
    "- setTermCriteria: 設定訓練終止條件<br>\n",
    "<img src = \"./assets/setTermCriteria.PNG\" style = \"width:35%;\">"
   ]
  },
  {
   "cell_type": "code",
   "execution_count": 104,
   "metadata": {},
   "outputs": [],
   "source": [
    "model = cv.ml.SVM_create()\n",
    "model.setType(cv.ml.SVM_C_SVC)\n",
    "model.setKernel(cv.ml.SVM_CHI2)\n",
    "model.setTermCriteria((cv.TERM_CRITERIA_MAX_ITER, 10000, 1e-6))\n",
    "model.setC(10000)"
   ]
  },
  {
   "cell_type": "markdown",
   "metadata": {},
   "source": [
    "trainData = data[['x', 'y']].values\n",
    "label = data[['label']].values"
   ]
  },
  {
   "cell_type": "markdown",
   "metadata": {},
   "source": [
    "#### 訓練SVM模型"
   ]
  },
  {
   "cell_type": "code",
   "execution_count": 105,
   "metadata": {},
   "outputs": [
    {
     "data": {
      "text/plain": [
       "True"
      ]
     },
     "execution_count": 105,
     "metadata": {},
     "output_type": "execute_result"
    }
   ],
   "source": [
    "model.train(trainData, cv.ml.ROW_SAMPLE, label)"
   ]
  },
  {
   "cell_type": "markdown",
   "metadata": {},
   "source": [
    "#### 模型訓練結果"
   ]
  },
  {
   "cell_type": "code",
   "execution_count": 110,
   "metadata": {},
   "outputs": [
    {
     "name": "stdout",
     "output_type": "stream",
     "text": [
      "label \t pred\n",
      "[0] \t [[0.]]\n",
      "[0] \t [[0.]]\n",
      "[0] \t [[0.]]\n",
      "[0] \t [[0.]]\n",
      "[0] \t [[0.]]\n",
      "[0] \t [[0.]]\n",
      "[0] \t [[0.]]\n",
      "[0] \t [[0.]]\n",
      "[0] \t [[0.]]\n",
      "[0] \t [[0.]]\n",
      "[1] \t [[1.]]\n",
      "[1] \t [[1.]]\n",
      "[1] \t [[1.]]\n",
      "[1] \t [[1.]]\n",
      "[1] \t [[1.]]\n",
      "[1] \t [[1.]]\n",
      "[1] \t [[1.]]\n",
      "[1] \t [[1.]]\n",
      "[1] \t [[1.]]\n",
      "[1] \t [[1.]]\n",
      "[1] \t [[1.]]\n",
      "[1] \t [[1.]]\n",
      "[1] \t [[1.]]\n",
      "[1] \t [[1.]]\n",
      "[1] \t [[1.]]\n",
      "[1] \t [[1.]]\n",
      "[1] \t [[1.]]\n",
      "[1] \t [[1.]]\n",
      "[1] \t [[1.]]\n",
      "[1] \t [[1.]]\n",
      "[1] \t [[1.]]\n",
      "==================\n",
      "accuracy:  1.0\n"
     ]
    }
   ],
   "source": [
    "get_acc(model, trainData, label)"
   ]
  },
  {
   "cell_type": "markdown",
   "metadata": {},
   "source": [
    "#### 模型測試\n",
    "- 將資料以二維座標圖呈現<br>\n",
    "![simple_unlinear_decision_boundary](./assets/simple_unlinear_decision_boundary.PNG)"
   ]
  },
  {
   "cell_type": "code",
   "execution_count": 108,
   "metadata": {},
   "outputs": [],
   "source": [
    "result = draw_data_dist(trainData, label, model)\n",
    "cv.imshow('SVM Simple Example', result)\n",
    "cv.waitKey()\n",
    "cv.destroyAllWindows()"
   ]
  },
  {
   "cell_type": "markdown",
   "metadata": {},
   "source": [
    "- 標註出Support Vector<br>\n",
    "![simple_unlinear_support_vector](./assets/simple_unlinear_decision_boundary.PNG)"
   ]
  },
  {
   "cell_type": "code",
   "execution_count": 100,
   "metadata": {},
   "outputs": [
    {
     "name": "stdout",
     "output_type": "stream",
     "text": [
      "None\n"
     ]
    }
   ],
   "source": [
    "sv = model.getUncompressedSupportVectors()\n",
    "print(sv)"
   ]
  },
  {
   "cell_type": "code",
   "execution_count": 109,
   "metadata": {},
   "outputs": [],
   "source": [
    "cv.imshow('SVM Simple Example', result)\n",
    "cv.waitKey()\n",
    "cv.destroyAllWindows()"
   ]
  },
  {
   "cell_type": "markdown",
   "metadata": {},
   "source": [
    "#### 模型存取"
   ]
  },
  {
   "cell_type": "code",
   "execution_count": 102,
   "metadata": {},
   "outputs": [],
   "source": [
    "model.save('./model/svm_simple_unlinear.xml')\n",
    "model = cv.ml.SVM_load('./model/svm_simple_unlinear.xml')"
   ]
  },
  {
   "cell_type": "code",
   "execution_count": null,
   "metadata": {},
   "outputs": [],
   "source": []
  }
 ],
 "metadata": {
  "kernelspec": {
   "display_name": "Python 3",
   "language": "python",
   "name": "python3"
  },
  "language_info": {
   "codemirror_mode": {
    "name": "ipython",
    "version": 3
   },
   "file_extension": ".py",
   "mimetype": "text/x-python",
   "name": "python",
   "nbconvert_exporter": "python",
   "pygments_lexer": "ipython3",
   "version": "3.6.8"
  }
 },
 "nbformat": 4,
 "nbformat_minor": 4
}
