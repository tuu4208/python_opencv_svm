{
 "cells": [
  {
   "cell_type": "markdown",
   "metadata": {},
   "source": [
    "# Support Vector Machine"
   ]
  },
  {
   "cell_type": "markdown",
   "metadata": {},
   "source": [
    "---"
   ]
  },
  {
   "cell_type": "markdown",
   "metadata": {},
   "source": [
    "### **SVM應用於手寫數字辨識**"
   ]
  },
  {
   "cell_type": "markdown",
   "metadata": {},
   "source": [
    "#### **手寫數字影像資料集MNIST**\n",
    "- 影像大小: <p>\n",
    "    28 * 28 * 1 (長 * 寬 * 通道)\n",
    "- 屬性: <p>\n",
    "    各點像素值(0~255)\n",
    "- 類別: <p>\n",
    "    0~9數字\n",
    "- 總計:<p>\n",
    "    - 共有60000筆資料\n",
    "    - 共有784個屬性(28 * 28 * 1)\n",
    "- 資料及來源:<p>http://yann.lecun.com/exdb/mnist/\n",
    "<br>\n",
    "<img src = \"https://3qeqpr26caki16dnhd19sv6by6v-wpengine.netdna-ssl.com/wp-content/uploads/2019/02/Plot-of-a-Subset-of-Images-from-the-MNIST-Dataset.png\" width = \"500\"><br>\n",
    "<font size=\"1\" color = \"gray\">圖片來源：https://machinelearningmastery.com/how-to-develop-a-convolutional-neural-network-from-scratch-for-mnist-handwritten-digit-classification/</font><br>"
   ]
  },
  {
   "cell_type": "markdown",
   "metadata": {},
   "source": [
    "---\n",
    "#### 導入將使用到的模組"
   ]
  },
  {
   "cell_type": "code",
   "execution_count": 2,
   "metadata": {},
   "outputs": [],
   "source": [
    "import numpy as np\n",
    "import cv2 as cv\n",
    "import pandas as pd"
   ]
  },
  {
   "cell_type": "markdown",
   "metadata": {},
   "source": [
    "#### 載入資料集與資料前處理<br>\n",
    "- 印出部分資料集查看屬性分佈"
   ]
  },
  {
   "cell_type": "code",
   "execution_count": 3,
   "metadata": {},
   "outputs": [
    {
     "name": "stdout",
     "output_type": "stream",
     "text": [
      "   0    1    2    3    4    5    6    7    8    9    ...  775  776  777  778  \\\n",
      "0    5    0    0    0    0    0    0    0    0    0  ...    0    0    0    0   \n",
      "1    0    0    0    0    0    0    0    0    0    0  ...    0    0    0    0   \n",
      "2    4    0    0    0    0    0    0    0    0    0  ...    0    0    0    0   \n",
      "3    1    0    0    0    0    0    0    0    0    0  ...    0    0    0    0   \n",
      "4    9    0    0    0    0    0    0    0    0    0  ...    0    0    0    0   \n",
      "5    2    0    0    0    0    0    0    0    0    0  ...    0    0    0    0   \n",
      "6    1    0    0    0    0    0    0    0    0    0  ...    0    0    0    0   \n",
      "7    3    0    0    0    0    0    0    0    0    0  ...    0    0    0    0   \n",
      "8    1    0    0    0    0    0    0    0    0    0  ...    0    0    0    0   \n",
      "9    4    0    0    0    0    0    0    0    0    0  ...    0    0    0    0   \n",
      "\n",
      "   779  780  781  782  783  784  \n",
      "0    0    0    0    0    0    0  \n",
      "1    0    0    0    0    0    0  \n",
      "2    0    0    0    0    0    0  \n",
      "3    0    0    0    0    0    0  \n",
      "4    0    0    0    0    0    0  \n",
      "5    0    0    0    0    0    0  \n",
      "6    0    0    0    0    0    0  \n",
      "7    0    0    0    0    0    0  \n",
      "8    0    0    0    0    0    0  \n",
      "9    0    0    0    0    0    0  \n",
      "\n",
      "[10 rows x 785 columns]\n"
     ]
    }
   ],
   "source": [
    "data = pd.read_csv('data\\mnist_train.csv', header = None)\n",
    "print(data[0:10])"
   ]
  },
  {
   "cell_type": "markdown",
   "metadata": {},
   "source": [
    "- 資料前處理"
   ]
  },
  {
   "cell_type": "code",
   "execution_count": 4,
   "metadata": {},
   "outputs": [],
   "source": [
    "trainData = data[range(1, data.shape[1])].values\n",
    "label = data[[0]].values\n",
    "trainData = trainData.astype(np.float32)\n",
    "trainData = np.asmatrix(trainData)"
   ]
  },
  {
   "cell_type": "markdown",
   "metadata": {},
   "source": [
    "#### SVM 模型建置\n",
    "此處先以最簡單的線性分割模型建置"
   ]
  },
  {
   "cell_type": "code",
   "execution_count": 15,
   "metadata": {},
   "outputs": [],
   "source": [
    "model = cv.ml.SVM_create()\n",
    "model.setType(cv.ml.SVM_C_SVC)\n",
    "model.setKernel(cv.ml.SVM_LINEAR)\n",
    "model.setTermCriteria((cv.TERM_CRITERIA_MAX_ITER, 10000, 1e-6))\n",
    "model.setC(100)"
   ]
  },
  {
   "cell_type": "markdown",
   "metadata": {},
   "source": [
    "#### 訓練SVM模型\n",
    "此處資料筆數多所以訓練需要10分鐘以上，請耐心等待"
   ]
  },
  {
   "cell_type": "code",
   "execution_count": 16,
   "metadata": {},
   "outputs": [
    {
     "data": {
      "text/plain": [
       "True"
      ]
     },
     "execution_count": 16,
     "metadata": {},
     "output_type": "execute_result"
    }
   ],
   "source": [
    "model.train(trainData, cv.ml.ROW_SAMPLE, label)"
   ]
  },
  {
   "cell_type": "markdown",
   "metadata": {},
   "source": [
    "#### 模型訓練結果"
   ]
  },
  {
   "cell_type": "code",
   "execution_count": 5,
   "metadata": {},
   "outputs": [
    {
     "ename": "NameError",
     "evalue": "name 'model' is not defined",
     "output_type": "error",
     "traceback": [
      "\u001b[1;31m---------------------------------------------------------------------------\u001b[0m",
      "\u001b[1;31mNameError\u001b[0m                                 Traceback (most recent call last)",
      "\u001b[1;32m<ipython-input-5-5197275d8305>\u001b[0m in \u001b[0;36m<module>\u001b[1;34m\u001b[0m\n\u001b[0;32m     10\u001b[0m     \u001b[0mprint\u001b[0m\u001b[1;33m(\u001b[0m\u001b[1;34m'accuracy: '\u001b[0m\u001b[1;33m,\u001b[0m \u001b[0macc\u001b[0m \u001b[1;33m/\u001b[0m \u001b[0mdata\u001b[0m\u001b[1;33m.\u001b[0m\u001b[0mshape\u001b[0m\u001b[1;33m[\u001b[0m\u001b[1;36m0\u001b[0m\u001b[1;33m]\u001b[0m\u001b[1;33m)\u001b[0m\u001b[1;33m\u001b[0m\u001b[1;33m\u001b[0m\u001b[0m\n\u001b[0;32m     11\u001b[0m \u001b[1;33m\u001b[0m\u001b[0m\n\u001b[1;32m---> 12\u001b[1;33m \u001b[0mget_acc\u001b[0m\u001b[1;33m(\u001b[0m\u001b[0mmodel\u001b[0m\u001b[1;33m,\u001b[0m \u001b[0mtrainData\u001b[0m\u001b[1;33m,\u001b[0m \u001b[0mlabel\u001b[0m\u001b[1;33m)\u001b[0m\u001b[1;33m\u001b[0m\u001b[1;33m\u001b[0m\u001b[0m\n\u001b[0m",
      "\u001b[1;31mNameError\u001b[0m: name 'model' is not defined"
     ]
    }
   ],
   "source": [
    "def get_acc(model, data, label):\n",
    "    acc = 0\n",
    "    print('label \\t pred')\n",
    "    for i in range(data.shape[0]):\n",
    "        response = model.predict(data[i])[1]\n",
    "        if i < 15: print(label[i], '\\t', response)\n",
    "        if model.predict(data[i])[1] == label[i]:\n",
    "            acc = acc + 1\n",
    "    print('==================')        \n",
    "    print('accuracy: ', acc / data.shape[0])\n",
    "    \n",
    "get_acc(model, trainData, label)"
   ]
  },
  {
   "cell_type": "markdown",
   "metadata": {},
   "source": [
    "#### 儲存SVM模型"
   ]
  },
  {
   "cell_type": "code",
   "execution_count": 18,
   "metadata": {},
   "outputs": [],
   "source": [
    "model.save('./model/svm_linear_mnist.xml')"
   ]
  },
  {
   "cell_type": "markdown",
   "metadata": {},
   "source": [
    "#### 載入測試資料集與資料前處理"
   ]
  },
  {
   "cell_type": "code",
   "execution_count": 6,
   "metadata": {},
   "outputs": [],
   "source": [
    "test = pd.read_csv('data\\mnist_test.csv', header = None)\n",
    "testData = test[range(1, test.shape[1])].values\n",
    "testLabel = test[[0]].values\n",
    "testData = testData.astype(np.float32)\n",
    "testData = np.asmatrix(testData)"
   ]
  },
  {
   "cell_type": "markdown",
   "metadata": {},
   "source": [
    "#### 模型測試結果"
   ]
  },
  {
   "cell_type": "code",
   "execution_count": 20,
   "metadata": {},
   "outputs": [
    {
     "name": "stdout",
     "output_type": "stream",
     "text": [
      "label \t pred\n",
      "[7] \t [[7.]]\n",
      "[2] \t [[2.]]\n",
      "[1] \t [[1.]]\n",
      "[0] \t [[0.]]\n",
      "[4] \t [[4.]]\n",
      "[1] \t [[1.]]\n",
      "[4] \t [[4.]]\n",
      "[9] \t [[9.]]\n",
      "[5] \t [[6.]]\n",
      "[9] \t [[9.]]\n",
      "[0] \t [[0.]]\n",
      "[6] \t [[6.]]\n",
      "[9] \t [[9.]]\n",
      "[0] \t [[0.]]\n",
      "[1] \t [[1.]]\n",
      "==================\n",
      "accuracy:  0.8279\n"
     ]
    }
   ],
   "source": [
    "get_acc(model, testData, testLabel)"
   ]
  },
  {
   "cell_type": "markdown",
   "metadata": {},
   "source": [
    "---\n",
    "#### 查看真實影像"
   ]
  },
  {
   "cell_type": "code",
   "execution_count": null,
   "metadata": {},
   "outputs": [],
   "source": []
  },
  {
   "cell_type": "markdown",
   "metadata": {},
   "source": [
    "---\n",
    "#### **使用核函數提升辨識率**"
   ]
  },
  {
   "cell_type": "code",
   "execution_count": 7,
   "metadata": {},
   "outputs": [],
   "source": [
    "model = cv.ml.SVM_create()\n",
    "model.setType(cv.ml.SVM_C_SVC)\n",
    "model.setKernel(cv.ml.SVM_CHI2)\n",
    "model.setTermCriteria((cv.TERM_CRITERIA_MAX_ITER, 10000, 1e-6))\n",
    "model.setC(100)"
   ]
  },
  {
   "cell_type": "markdown",
   "metadata": {},
   "source": [
    "#### 訓練SVM模型\n",
    "此處資料筆數多所以訓練需要10分鐘以上，請耐心等待"
   ]
  },
  {
   "cell_type": "code",
   "execution_count": null,
   "metadata": {},
   "outputs": [],
   "source": [
    "model.train(trainData, cv.ml.ROW_SAMPLE, label)"
   ]
  },
  {
   "cell_type": "markdown",
   "metadata": {},
   "source": [
    "#### 模型訓練結果"
   ]
  },
  {
   "cell_type": "code",
   "execution_count": null,
   "metadata": {},
   "outputs": [],
   "source": [
    "get_acc(model, trainData, label)"
   ]
  },
  {
   "cell_type": "markdown",
   "metadata": {},
   "source": [
    "#### 模型測試結果"
   ]
  },
  {
   "cell_type": "code",
   "execution_count": null,
   "metadata": {},
   "outputs": [],
   "source": [
    "get_acc(model, testData, testLabel)"
   ]
  },
  {
   "cell_type": "code",
   "execution_count": null,
   "metadata": {},
   "outputs": [],
   "source": []
  }
 ],
 "metadata": {
  "kernelspec": {
   "display_name": "Python 3",
   "language": "python",
   "name": "python3"
  },
  "language_info": {
   "codemirror_mode": {
    "name": "ipython",
    "version": 3
   },
   "file_extension": ".py",
   "mimetype": "text/x-python",
   "name": "python",
   "nbconvert_exporter": "python",
   "pygments_lexer": "ipython3",
   "version": "3.7.3"
  }
 },
 "nbformat": 4,
 "nbformat_minor": 4
}
