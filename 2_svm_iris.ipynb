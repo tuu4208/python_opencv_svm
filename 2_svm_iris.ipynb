{
 "cells": [
  {
   "cell_type": "markdown",
   "metadata": {},
   "source": [
    "# Support Vector Machine 應用於Iris鳶尾花辨識"
   ]
  },
  {
   "cell_type": "markdown",
   "metadata": {},
   "source": [
    "---"
   ]
  },
  {
   "cell_type": "markdown",
   "metadata": {},
   "source": [
    "#### **鳶尾花資料集Iris**\n",
    "- 屬性: <p>\n",
    "    - 花萼長度\n",
    "    - 花萼寬度\n",
    "    - 花瓣長度\n",
    "    - 花瓣寬度\n",
    "- 類別: <p>\n",
    "    - 0: Iris Setosa\n",
    "    - 1: Iris Versicolour\n",
    "    - 2: Iris Virginica\n",
    "- 總計: <p>\n",
    "    共有150筆資料(訓練120筆、測試30筆)\n",
    "- 資料及來源:<p>https://archive.ics.uci.edu/ml/datasets/iris\n",
    "<br>\n",
    "<img src = \"https://archive.ics.uci.edu/ml/assets/MLimages/Large53.jpg\" width = \"200\"><br>\n",
    "<font size=\"1\" color = \"gray\">圖片來源：https://archive.ics.uci.edu/ml/datasets/iris</font><br>"
   ]
  },
  {
   "cell_type": "markdown",
   "metadata": {},
   "source": [
    "---\n",
    "#### 導入將使用到的模組"
   ]
  },
  {
   "cell_type": "code",
   "execution_count": 17,
   "metadata": {},
   "outputs": [],
   "source": [
    "import numpy as np\n",
    "import cv2 as cv\n",
    "import pandas as pd"
   ]
  },
  {
   "cell_type": "markdown",
   "metadata": {},
   "source": [
    "#### 載入資料集與資料前處理<br>\n",
    "- 印出部分資料集查看屬性分佈"
   ]
  },
  {
   "cell_type": "code",
   "execution_count": 18,
   "metadata": {},
   "outputs": [
    {
     "name": "stdout",
     "output_type": "stream",
     "text": [
      "     0    1    2    3  4\n",
      "0  0.0  1.0  2.0  3.0  4\n",
      "1  5.7  2.9  4.2  1.3  1\n",
      "2  4.9  3.1  1.5  0.1  0\n",
      "3  4.6  3.2  1.4  0.2  0\n",
      "4  5.0  2.3  3.3  1.0  1\n",
      "5  5.7  3.8  1.7  0.3  0\n",
      "6  7.7  2.8  6.7  2.0  2\n",
      "7  5.0  3.4  1.5  0.2  0\n",
      "8  5.9  3.0  5.1  1.8  2\n",
      "9  6.5  3.2  5.1  2.0  2\n"
     ]
    }
   ],
   "source": [
    "data = pd.read_csv('data\\iris_train.csv', header = None)\n",
    "print(data[0:10])"
   ]
  },
  {
   "cell_type": "markdown",
   "metadata": {},
   "source": [
    "- 資料前處理"
   ]
  },
  {
   "cell_type": "code",
   "execution_count": 19,
   "metadata": {},
   "outputs": [],
   "source": [
    "trainData = data[range(0, data.shape[1]-1)].values\n",
    "label = data[[data.shape[1]-1]].values\n",
    "trainData = trainData.astype(np.float32)\n",
    "trainData = np.asmatrix(trainData)"
   ]
  },
  {
   "cell_type": "markdown",
   "metadata": {},
   "source": [
    "#### SVM 模型建置\n",
    "此處先以最簡單的線性分割模型建置"
   ]
  },
  {
   "cell_type": "code",
   "execution_count": 20,
   "metadata": {},
   "outputs": [],
   "source": [
    "model = cv.ml.SVM_create()\n",
    "model.setType(cv.ml.SVM_C_SVC)\n",
    "model.setKernel(cv.ml.SVM_LINEAR)\n",
    "model.setTermCriteria((cv.TERM_CRITERIA_MAX_ITER, 10000, 1e-6))\n",
    "model.setC(100)"
   ]
  },
  {
   "cell_type": "markdown",
   "metadata": {},
   "source": [
    "#### 訓練SVM模型\n",
    "此處資料筆數多所以訓練需要10分鐘以上，請耐心等待"
   ]
  },
  {
   "cell_type": "code",
   "execution_count": 21,
   "metadata": {},
   "outputs": [
    {
     "data": {
      "text/plain": [
       "True"
      ]
     },
     "execution_count": 21,
     "metadata": {},
     "output_type": "execute_result"
    }
   ],
   "source": [
    "model.train(trainData, cv.ml.ROW_SAMPLE, label)"
   ]
  },
  {
   "cell_type": "markdown",
   "metadata": {},
   "source": [
    "#### 模型訓練結果"
   ]
  },
  {
   "cell_type": "code",
   "execution_count": 22,
   "metadata": {},
   "outputs": [
    {
     "name": "stdout",
     "output_type": "stream",
     "text": [
      "label \t pred\n",
      "[4] \t [[4.]]\n",
      "[1] \t [[1.]]\n",
      "[0] \t [[0.]]\n",
      "[0] \t [[0.]]\n",
      "[1] \t [[1.]]\n",
      "[0] \t [[0.]]\n",
      "[2] \t [[2.]]\n",
      "[0] \t [[0.]]\n",
      "[2] \t [[2.]]\n",
      "[2] \t [[2.]]\n",
      "[0] \t [[0.]]\n",
      "[2] \t [[2.]]\n",
      "[0] \t [[0.]]\n",
      "[2] \t [[2.]]\n",
      "[0] \t [[0.]]\n",
      "==================\n",
      "accuracy:  0.9752066115702479\n"
     ]
    }
   ],
   "source": [
    "def get_acc(model, data, label):\n",
    "    acc = 0\n",
    "    print('label \\t pred')\n",
    "    for i in range(data.shape[0]):\n",
    "        response = model.predict(data[i])[1]\n",
    "        if i < 15: print(label[i], '\\t', response)\n",
    "        if model.predict(data[i])[1] == label[i]:\n",
    "            acc = acc + 1\n",
    "    print('==================')        \n",
    "    print('accuracy: ', acc / data.shape[0])\n",
    "    \n",
    "get_acc(model, trainData, label)"
   ]
  },
  {
   "cell_type": "markdown",
   "metadata": {},
   "source": [
    "#### 儲存SVM模型"
   ]
  },
  {
   "cell_type": "code",
   "execution_count": 23,
   "metadata": {},
   "outputs": [],
   "source": [
    "model.save('./model/svm_linear_iris.xml')"
   ]
  },
  {
   "cell_type": "markdown",
   "metadata": {},
   "source": [
    "#### 載入測試資料集與資料前處理"
   ]
  },
  {
   "cell_type": "code",
   "execution_count": 24,
   "metadata": {},
   "outputs": [],
   "source": [
    "test = pd.read_csv('data\\iris_test.csv', header = None)\n",
    "testData = test[range(0, test.shape[1]-1)].values\n",
    "testLabel = test[[test.shape[1]-1]].values\n",
    "testData = testData.astype(np.float32)\n",
    "testData = np.asmatrix(testData)"
   ]
  },
  {
   "cell_type": "markdown",
   "metadata": {},
   "source": [
    "#### 模型測試結果"
   ]
  },
  {
   "cell_type": "code",
   "execution_count": 25,
   "metadata": {},
   "outputs": [
    {
     "name": "stdout",
     "output_type": "stream",
     "text": [
      "label \t pred\n",
      "[4] \t [[4.]]\n",
      "[1] \t [[1.]]\n",
      "[0] \t [[0.]]\n",
      "[2] \t [[2.]]\n",
      "[2] \t [[2.]]\n",
      "[1] \t [[1.]]\n",
      "[0] \t [[0.]]\n",
      "[0] \t [[0.]]\n",
      "[1] \t [[1.]]\n",
      "[2] \t [[2.]]\n",
      "[1] \t [[1.]]\n",
      "[0] \t [[0.]]\n",
      "[2] \t [[2.]]\n",
      "[2] \t [[2.]]\n",
      "[2] \t [[2.]]\n",
      "==================\n",
      "accuracy:  1.0\n"
     ]
    }
   ],
   "source": [
    "get_acc(model, testData, testLabel)"
   ]
  },
  {
   "cell_type": "markdown",
   "metadata": {},
   "source": [
    "---\n",
    "#### **使用核函數提升辨識率**"
   ]
  },
  {
   "cell_type": "code",
   "execution_count": 26,
   "metadata": {},
   "outputs": [],
   "source": [
    "model = cv.ml.SVM_create()\n",
    "model.setType(cv.ml.SVM_C_SVC)\n",
    "model.setKernel(cv.ml.SVM_CHI2)\n",
    "model.setTermCriteria((cv.TERM_CRITERIA_MAX_ITER, 10000, 1e-6))\n",
    "model.setC(10000)"
   ]
  },
  {
   "cell_type": "markdown",
   "metadata": {},
   "source": [
    "#### 訓練SVM模型"
   ]
  },
  {
   "cell_type": "code",
   "execution_count": 31,
   "metadata": {},
   "outputs": [
    {
     "data": {
      "text/plain": [
       "True"
      ]
     },
     "execution_count": 31,
     "metadata": {},
     "output_type": "execute_result"
    }
   ],
   "source": [
    "model.train(trainData, cv.ml.ROW_SAMPLE, label)"
   ]
  },
  {
   "cell_type": "markdown",
   "metadata": {},
   "source": [
    "#### 模型訓練結果"
   ]
  },
  {
   "cell_type": "code",
   "execution_count": 32,
   "metadata": {},
   "outputs": [
    {
     "name": "stdout",
     "output_type": "stream",
     "text": [
      "label \t pred\n",
      "[4] \t [[4.]]\n",
      "[1] \t [[1.]]\n",
      "[0] \t [[0.]]\n",
      "[0] \t [[0.]]\n",
      "[1] \t [[1.]]\n",
      "[0] \t [[0.]]\n",
      "[2] \t [[2.]]\n",
      "[0] \t [[0.]]\n",
      "[2] \t [[2.]]\n",
      "[2] \t [[2.]]\n",
      "[0] \t [[0.]]\n",
      "[2] \t [[2.]]\n",
      "[0] \t [[0.]]\n",
      "[2] \t [[2.]]\n",
      "[0] \t [[0.]]\n",
      "==================\n",
      "accuracy:  1.0\n"
     ]
    }
   ],
   "source": [
    "get_acc(model, trainData, label)"
   ]
  },
  {
   "cell_type": "markdown",
   "metadata": {},
   "source": [
    "#### 模型測試結果"
   ]
  },
  {
   "cell_type": "code",
   "execution_count": 33,
   "metadata": {},
   "outputs": [
    {
     "name": "stdout",
     "output_type": "stream",
     "text": [
      "label \t pred\n",
      "[4] \t [[4.]]\n",
      "[1] \t [[2.]]\n",
      "[0] \t [[0.]]\n",
      "[2] \t [[2.]]\n",
      "[2] \t [[2.]]\n",
      "[1] \t [[2.]]\n",
      "[0] \t [[0.]]\n",
      "[0] \t [[0.]]\n",
      "[1] \t [[1.]]\n",
      "[2] \t [[2.]]\n",
      "[1] \t [[1.]]\n",
      "[0] \t [[0.]]\n",
      "[2] \t [[2.]]\n",
      "[2] \t [[2.]]\n",
      "[2] \t [[2.]]\n",
      "==================\n",
      "accuracy:  0.9354838709677419\n"
     ]
    }
   ],
   "source": [
    "get_acc(model, testData, testLabel)"
   ]
  },
  {
   "cell_type": "markdown",
   "metadata": {},
   "source": [
    "#### 儲存SVM模型"
   ]
  },
  {
   "cell_type": "code",
   "execution_count": 34,
   "metadata": {},
   "outputs": [],
   "source": [
    "model.save('./model/svm_unlinear_iris.xml')"
   ]
  },
  {
   "cell_type": "code",
   "execution_count": null,
   "metadata": {},
   "outputs": [],
   "source": []
  },
  {
   "cell_type": "code",
   "execution_count": null,
   "metadata": {},
   "outputs": [],
   "source": []
  }
 ],
 "metadata": {
  "kernelspec": {
   "display_name": "Python 3",
   "language": "python",
   "name": "python3"
  },
  "language_info": {
   "codemirror_mode": {
    "name": "ipython",
    "version": 3
   },
   "file_extension": ".py",
   "mimetype": "text/x-python",
   "name": "python",
   "nbconvert_exporter": "python",
   "pygments_lexer": "ipython3",
   "version": "3.6.8"
  }
 },
 "nbformat": 4,
 "nbformat_minor": 4
}
